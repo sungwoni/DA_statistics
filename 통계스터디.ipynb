{
 "cells": [
  {
   "cell_type": "code",
   "execution_count": 1,
   "metadata": {},
   "outputs": [],
   "source": [
    "import numpy as np\n",
    "import scipy as sp\n",
    "import pandas as pd\n",
    "from scipy import stats\n",
    "\n",
    "from matplotlib import pyplot as plt\n",
    "import seaborn as sns\n",
    "sns.set()\n",
    "\n",
    "%precision 3\n",
    "\n",
    "%matplotlib inline"
   ]
  },
  {
   "cell_type": "markdown",
   "metadata": {},
   "source": [
    "# 2집단 데이터에 대한 t검정\n",
    "\n",
    "## 대응표본 t검정 ( Paired t-test )\n",
    "\n",
    "\n",
    "\n",
    "\n",
    "* 비교하려는 두 집단이 서로 독립적이지 않을 때, 한 집단이 두번 테스트 되었을 때 사용 (dependent sample)\n",
    "\n",
    "\n",
    "* 책의 예시에서는 동일한 집단이 약을 먹기전과 먹은 후 체온을 비교해서 약이 효과가 있는지 검정하는 것이므로 paired t-test 사용\n",
    "\n",
    "\n",
    "* 귀무가설 : 차잇값 = 0  vs 대립가설: 차잇값 != 0 (양측검정)\n",
    "\n",
    "\n",
    "\n",
    "\n",
    "\n",
    "\n"
   ]
  },
  {
   "cell_type": "code",
   "execution_count": 4,
   "metadata": {},
   "outputs": [
    {
     "name": "stdout",
     "output_type": "stream",
     "text": [
      "  person medicine  body_temperature\n",
      "0      A   before              36.2\n",
      "1      B   before              36.2\n",
      "2      C   before              35.3\n",
      "3      D   before              36.1\n",
      "4      E   before              36.1\n",
      "5      A    after              36.8\n",
      "6      B    after              36.1\n",
      "7      C    after              36.8\n",
      "8      D    after              37.1\n",
      "9      E    after              36.9\n"
     ]
    }
   ],
   "source": [
    "paired_test_data=pd.read_csv('3-9-1-paired-t-test.csv')\n",
    "print(paired_test_data)"
   ]
  },
  {
   "cell_type": "code",
   "execution_count": 7,
   "metadata": {},
   "outputs": [
    {
     "data": {
      "text/plain": [
       "array([ 0.6, -0.1,  1.5,  1. ,  0.8])"
      ]
     },
     "execution_count": 7,
     "metadata": {},
     "output_type": "execute_result"
    }
   ],
   "source": [
    "before = paired_test_data.query('medicine ==\"before\"')[\"body_temperature\"]\n",
    "after = paired_test_data.query('medicine == \"after\"')[\"body_temperature\"]\n",
    "\n",
    "before = np.array(before)\n",
    "after = np.array(after)\n",
    "\n",
    "diff = after - before\n",
    "diff"
   ]
  },
  {
   "cell_type": "code",
   "execution_count": 8,
   "metadata": {},
   "outputs": [
    {
     "data": {
      "text/plain": [
       "Ttest_1sampResult(statistic=2.901693483620596, pvalue=0.044043109730074276)"
      ]
     },
     "execution_count": 8,
     "metadata": {},
     "output_type": "execute_result"
    }
   ],
   "source": [
    "stats.ttest_1samp(diff,0)  # P-value 가 0.044 < 0.05 이므로 귀무가설 기각"
   ]
  },
  {
   "cell_type": "code",
   "execution_count": 9,
   "metadata": {},
   "outputs": [
    {
     "data": {
      "text/plain": [
       "Ttest_relResult(statistic=2.901693483620596, pvalue=0.044043109730074276)"
      ]
     },
     "execution_count": 9,
     "metadata": {},
     "output_type": "execute_result"
    }
   ],
   "source": [
    "stats.ttest_rel(after,before)"
   ]
  },
  {
   "cell_type": "markdown",
   "metadata": {},
   "source": [
    "* stats.ttest_rel(a,b) : Related된 두 샘플을 Two Side t검정할 때 사용, a와 b는 array-like\n",
    "\n",
    "![t값](https://cdn.smassets.net/assets/cms/cc/uploads/t-test-formulas-t-tests-explained.png)\n",
    "\n",
    "\n",
    "* Paired T-test는 두 샘플의 차이값을 구한 뒤에 One Sample T-test를 하는 것과 동일하다."
   ]
  },
  {
   "cell_type": "markdown",
   "metadata": {},
   "source": [
    "## 독립표본 t검정\n",
    "\n",
    "* 독립표본 t검정은 서로 독립된 두 샘플 간 차이를 검정하기 위한 t검정이다\n",
    "\n",
    "* 독립표본 t검정의 t값은 다음과 같다\n",
    "\n",
    "![t값](http://www.stat.yale.edu/Courses/1997-98/101/tstat2.gif)"
   ]
  },
  {
   "cell_type": "code",
   "execution_count": 11,
   "metadata": {},
   "outputs": [
    {
     "data": {
      "text/plain": [
       "3.1557282344421034"
      ]
     },
     "execution_count": 11,
     "metadata": {},
     "output_type": "execute_result"
    }
   ],
   "source": [
    "mean_bef = sp.mean(before)\n",
    "mean_aft = sp.mean(after)\n",
    "\n",
    "sigma_bef = sp.var(before , ddof = 1)\n",
    "sigma_aft = sp.var(after, ddof = 1)\n",
    "\n",
    "m = len(before)\n",
    "n = len(after)\n",
    "\n",
    "t_value = (mean_aft-mean_bef)/sp.sqrt((sigma_bef/m+sigma_aft/n))\n",
    "\n",
    "t_value\n",
    "                                "
   ]
  },
  {
   "cell_type": "code",
   "execution_count": 12,
   "metadata": {},
   "outputs": [
    {
     "data": {
      "text/plain": [
       "Ttest_indResult(statistic=3.1557282344421034, pvalue=0.013484775682079892)"
      ]
     },
     "execution_count": 12,
     "metadata": {},
     "output_type": "execute_result"
    }
   ],
   "source": [
    "stats.ttest_ind(after, before, equal_var = False)\n",
    "\n",
    "# P-value = 0.013 < 0.05 이므로 귀무가설 기각"
   ]
  },
  {
   "cell_type": "markdown",
   "metadata": {},
   "source": [
    "* stats.ttest_ind(a,b) : 두 independent한 샘플의 Two side t검정을 할 때 사용, a와 b는 array-like \n",
    "\n",
    "* equal_var = True 이면 등분산 가정\n",
    "\n",
    "* 등분산 가정일 경우 t값\n",
    "\n",
    "![t값](https://www.boost.org/doc/libs/1_46_0/libs/math/doc/sf_and_dist/equations/dist_tutorial1.png)"
   ]
  },
  {
   "cell_type": "markdown",
   "metadata": {},
   "source": [
    "## 분할표 검정 (contingency table)\n",
    "\n",
    "* 카이제곱 검정(chi-squared test) : 관찰된 빈도가 기대되는 빈도와 의미있게 다른지에 여부를 검증하기 위해 사용되는 검증방법\n",
    "\n",
    "\n",
    "* 귀무가설: 기대도수와 관측도수가 일치한다 vs 대립가설 : 기대도수와 관측도수가 일치하지 않는다"
   ]
  },
  {
   "cell_type": "code",
   "execution_count": 13,
   "metadata": {},
   "outputs": [
    {
     "data": {
      "text/plain": [
       "2.6108559758597494e-11"
      ]
     },
     "execution_count": 13,
     "metadata": {},
     "output_type": "execute_result"
    }
   ],
   "source": [
    "1-sp.stats.chi.cdf(x=6.667, df=1)"
   ]
  },
  {
   "cell_type": "markdown",
   "metadata": {},
   "source": [
    "* 카이제곱분포는 좌우대칭이 아니므로 (1-alpha)*2를 이용하지 않음 , t검정(200p)와 다른점\n",
    "\n",
    "\n",
    "* 카이제곱 검정은 단측검정만 존재\n",
    "\n",
    "![카이제곱분포](http://www.ktword.co.kr/img_data/2365_4.JPG)"
   ]
  },
  {
   "cell_type": "code",
   "execution_count": 14,
   "metadata": {},
   "outputs": [
    {
     "name": "stdout",
     "output_type": "stream",
     "text": [
      "  color  click  freq\n",
      "0  blue  click    20\n",
      "1  blue    not   230\n",
      "2   red  click    10\n",
      "3   red    not    40\n"
     ]
    }
   ],
   "source": [
    "click_data = pd.read_csv('3-10-1-click_data.csv')\n",
    "\n",
    "print(click_data)"
   ]
  },
  {
   "cell_type": "code",
   "execution_count": 17,
   "metadata": {
    "scrolled": true
   },
   "outputs": [
    {
     "name": "stdout",
     "output_type": "stream",
     "text": [
      "click  click  not\n",
      "color            \n",
      "blue      20  230\n",
      "red       10   40\n"
     ]
    }
   ],
   "source": [
    "cross = pd.pivot_table(\n",
    "    data = click_data,\n",
    "    values = 'freq',\n",
    "    aggfunc = 'sum',\n",
    "    index = 'color',\n",
    "    columns = 'click'\n",
    ")\n",
    "\n",
    "print(cross)"
   ]
  },
  {
   "cell_type": "markdown",
   "metadata": {},
   "source": [
    " * sp.stats.chi2_contingency(observed) :  contingency table로 변수의 독립성을 카이제곱검정"
   ]
  },
  {
   "cell_type": "code",
   "execution_count": 18,
   "metadata": {},
   "outputs": [
    {
     "data": {
      "text/plain": [
       "(6.666666666666666, 0.009823274507519247, 1, array([[ 25., 225.],\n",
       "        [  5.,  45.]]))"
      ]
     },
     "execution_count": 18,
     "metadata": {},
     "output_type": "execute_result"
    }
   ],
   "source": [
    "sp.stats.chi2_contingency(cross, correction = False)\n",
    "\n",
    "# 통계량, P값 , 자유도, 기대도수표 순서"
   ]
  },
  {
   "cell_type": "code",
   "execution_count": null,
   "metadata": {},
   "outputs": [],
   "source": []
  }
 ],
 "metadata": {
  "kernelspec": {
   "display_name": "Python 3",
   "language": "python",
   "name": "python3"
  },
  "language_info": {
   "codemirror_mode": {
    "name": "ipython",
    "version": 3
   },
   "file_extension": ".py",
   "mimetype": "text/x-python",
   "name": "python",
   "nbconvert_exporter": "python",
   "pygments_lexer": "ipython3",
   "version": "3.7.4"
  }
 },
 "nbformat": 4,
 "nbformat_minor": 2
}
